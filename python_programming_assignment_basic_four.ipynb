{
 "cells": [
  {
   "cell_type": "markdown",
   "metadata": {},
   "source": [
    "# 1. Write a Python Program to Find the Factorial of a Number?"
   ]
  },
  {
   "cell_type": "code",
   "execution_count": 1,
   "metadata": {},
   "outputs": [
    {
     "name": "stdout",
     "output_type": "stream",
     "text": [
      "enter the number 5\n",
      "120\n"
     ]
    }
   ],
   "source": [
    "#Solution:\n",
    "number = int(input(\"enter the number \"))\n",
    "product = 1\n",
    "for i in range(1,number+1):\n",
    "    product = product*i\n",
    "print(product)    "
   ]
  },
  {
   "cell_type": "code",
   "execution_count": 3,
   "metadata": {},
   "outputs": [
    {
     "name": "stdout",
     "output_type": "stream",
     "text": [
      "range(1, 1)\n"
     ]
    }
   ],
   "source": [
    "print(range(1,1))"
   ]
  },
  {
   "cell_type": "markdown",
   "metadata": {},
   "source": [
    "# 2. Write a Python Program to Display the multiplication Table?"
   ]
  },
  {
   "cell_type": "code",
   "execution_count": 9,
   "metadata": {},
   "outputs": [
    {
     "name": "stdout",
     "output_type": "stream",
     "text": [
      "enter the number 9\n",
      "9 * 1 = 9\n",
      "9 * 2 = 18\n",
      "9 * 3 = 27\n",
      "9 * 4 = 36\n",
      "9 * 5 = 45\n",
      "9 * 6 = 54\n",
      "9 * 7 = 63\n",
      "9 * 8 = 72\n",
      "9 * 9 = 81\n",
      "9 * 10 = 90\n"
     ]
    }
   ],
   "source": [
    "#Solution: \n",
    "\n",
    "number = int(input(\"enter the number \"))\n",
    "for i in range(1,11):\n",
    "    print(\"{} * {} = {}\".format(number, i, number * i))"
   ]
  },
  {
   "cell_type": "markdown",
   "metadata": {},
   "source": [
    "# 3. Write a Python Program to Print the Fibonacci sequence?"
   ]
  },
  {
   "cell_type": "code",
   "execution_count": 13,
   "metadata": {},
   "outputs": [
    {
     "name": "stdout",
     "output_type": "stream",
     "text": [
      "enter number 9\n",
      "0 1123581321"
     ]
    }
   ],
   "source": [
    "#Solution: \n",
    "number = int(input(\"enter number \"))\n",
    "a= 0\n",
    "b= 1\n",
    "\n",
    "print(a,b ,end ='')\n",
    "for i in range(2,number):\n",
    "    c=a+b\n",
    "    print(c, end ='')\n",
    "    a=b\n",
    "    b=c\n",
    "    \n"
   ]
  },
  {
   "cell_type": "markdown",
   "metadata": {},
   "source": [
    "# 4. Write a Python Program to Check Armstrong Number?"
   ]
  },
  {
   "cell_type": "code",
   "execution_count": 40,
   "metadata": {},
   "outputs": [
    {
     "name": "stdout",
     "output_type": "stream",
     "text": [
      "enter a number 888\n",
      "not an armstrong number\n"
     ]
    }
   ],
   "source": [
    "num = int(input(\"enter a number \"))\n",
    "given_number = num\n",
    "sum_digits = 0\n",
    "\n",
    "num_to_str_length = len(str(given_number))\n",
    "\n",
    "\n",
    "for i in range(0,num_to_str_length):\n",
    "    digit = given_number % 10\n",
    "    sum_digits = sum_digits + digit**3\n",
    "    given_number = given_number // 10\n",
    "\n",
    "if num == sum_digits:\n",
    "    print(\"the given number is armstrong number\")\n",
    "else:\n",
    "    print(\"not an armstrong number\")"
   ]
  },
  {
   "cell_type": "markdown",
   "metadata": {},
   "source": [
    "# 5. Write a Python Program to Find Armstrong Number in an Interval?"
   ]
  },
  {
   "cell_type": "code",
   "execution_count": 56,
   "metadata": {},
   "outputs": [
    {
     "name": "stdout",
     "output_type": "stream",
     "text": [
      "Enter First Interval 100\n",
      "Enter Second Interval 1000\n",
      "153\n",
      "370\n",
      "371\n",
      "407\n"
     ]
    }
   ],
   "source": [
    "initialInterval = int(input(\"Enter First Interval \"))\n",
    "finalInterval = int(input(\"Enter Second Interval \"))\n",
    "\n",
    "\n",
    "for number in range(initialInterval, finalInterval+1):\n",
    "    \n",
    "    givenNumber = number\n",
    "    sum_of_digits = 0\n",
    "    num_to_str_length = len(str(givenNumber))\n",
    "    \n",
    "    for counter in range(0,num_to_str_length):\n",
    "        digit = givenNumber % 10\n",
    "        sum_of_digits = sum_of_digits + digit**3\n",
    "        givenNumber = givenNumber // 10\n",
    "   \n",
    "\n",
    "    if number == sum_of_digits:\n",
    "        print(number)\n",
    "        "
   ]
  },
  {
   "cell_type": "markdown",
   "metadata": {},
   "source": [
    "# 6. Write a Python Program to Find the Sum of Natural Numbers?"
   ]
  },
  {
   "cell_type": "code",
   "execution_count": 57,
   "metadata": {},
   "outputs": [
    {
     "name": "stdout",
     "output_type": "stream",
     "text": [
      "enter a number 10\n",
      "55\n"
     ]
    }
   ],
   "source": [
    "num = int(input(\"enter a number \"))\n",
    "\n",
    "sum_digits = 0\n",
    "\n",
    "for number in range(1,num+1):\n",
    "    sum_digits = sum_digits + number\n",
    "    \n",
    "print(sum_digits)"
   ]
  },
  {
   "cell_type": "code",
   "execution_count": null,
   "metadata": {},
   "outputs": [],
   "source": []
  }
 ],
 "metadata": {
  "kernelspec": {
   "display_name": "Python 3",
   "language": "python",
   "name": "python3"
  },
  "language_info": {
   "codemirror_mode": {
    "name": "ipython",
    "version": 3
   },
   "file_extension": ".py",
   "mimetype": "text/x-python",
   "name": "python",
   "nbconvert_exporter": "python",
   "pygments_lexer": "ipython3",
   "version": "3.8.5"
  }
 },
 "nbformat": 4,
 "nbformat_minor": 4
}
