{
 "cells": [
  {
   "cell_type": "markdown",
   "id": "edad3b87",
   "metadata": {},
   "source": [
    "# 1.Write a Python Program to find sum of array?"
   ]
  },
  {
   "cell_type": "code",
   "execution_count": 3,
   "id": "9f289457",
   "metadata": {},
   "outputs": [
    {
     "name": "stdout",
     "output_type": "stream",
     "text": [
      "6\n"
     ]
    }
   ],
   "source": [
    "def sum_array(array = []):\n",
    "    \"\"\"\n",
    "    This function takes in an array and \n",
    "    returns the sum of the all elements in it\n",
    "    \"\"\"\n",
    "    return (sum(array))\n",
    "\n",
    "\n",
    "#driver\n",
    "\n",
    "result_array = sum_array([1,2,3])\n",
    "print(result_array)"
   ]
  },
  {
   "cell_type": "markdown",
   "id": "df9aaa8a",
   "metadata": {},
   "source": [
    "# 2.Write a Python Program to find largest element in an array?\n"
   ]
  },
  {
   "cell_type": "code",
   "execution_count": 5,
   "id": "a0427986",
   "metadata": {},
   "outputs": [
    {
     "name": "stdout",
     "output_type": "stream",
     "text": [
      "3\n"
     ]
    }
   ],
   "source": [
    "def maxed_array(array = []):\n",
    "    \"\"\"\n",
    "    This function takes in an array and \n",
    "    returns the max of the all elements in it\n",
    "    \"\"\"\n",
    "    return (max(array))\n",
    "\n",
    "\n",
    "#driver\n",
    "\n",
    "result_array = maxed_array([1,2,3])\n",
    "print(result_array)"
   ]
  },
  {
   "cell_type": "markdown",
   "id": "cb064af8",
   "metadata": {},
   "source": [
    "# 3. Write a Python Program for array rotation?"
   ]
  },
  {
   "cell_type": "code",
   "execution_count": 8,
   "id": "cdcaea90",
   "metadata": {},
   "outputs": [
    {
     "name": "stdout",
     "output_type": "stream",
     "text": [
      "[3, 2, 1]\n"
     ]
    }
   ],
   "source": [
    "def rotated_array(array = []):\n",
    "    \"\"\"\n",
    "    This function takes in an array and \n",
    "    returns rotated array\n",
    "    \"\"\"\n",
    "    return (reversed(array))\n",
    "\n",
    "\n",
    "#driver\n",
    "\n",
    "result_array = sum_array([1,2,3])\n",
    "print(list(result_array))"
   ]
  },
  {
   "cell_type": "markdown",
   "id": "4cac0ca9",
   "metadata": {},
   "source": [
    "# 4. Write a Python Program to Split the array and add the first part to the end?"
   ]
  },
  {
   "cell_type": "code",
   "execution_count": 9,
   "id": "f54e1823",
   "metadata": {},
   "outputs": [
    {
     "name": "stdout",
     "output_type": "stream",
     "text": [
      "[1, 2, 3, 1]\n"
     ]
    }
   ],
   "source": [
    "def operating_array(array = []):\n",
    "    \"\"\"\n",
    "    This function takes in an array and \n",
    "    returns an array after adding 1st ele to end element\n",
    "    \"\"\"\n",
    "    \n",
    "    temp_first_ele = array[0]\n",
    "    array.append(temp_first_ele)\n",
    "    return array\n",
    "\n",
    "\n",
    "#driver\n",
    "\n",
    "result_array = operating_array([1,2,3])\n",
    "print(list(result_array))"
   ]
  },
  {
   "cell_type": "markdown",
   "id": "d49b34df",
   "metadata": {},
   "source": [
    "# 5. Write a Python Program to check if given array is Monotonic?"
   ]
  },
  {
   "cell_type": "code",
   "execution_count": 15,
   "id": "b81b390d",
   "metadata": {},
   "outputs": [
    {
     "name": "stdout",
     "output_type": "stream",
     "text": [
      "Given [1, 2, 3] is a Monotonic increasing/not a monotonic\n"
     ]
    }
   ],
   "source": [
    "def monotonic_array(array = []):\n",
    "    \"\"\"\n",
    "    this function will check if an array is monotonic or not \n",
    "    \"\"\"\n",
    "    cost_determinator_monotonic = 0\n",
    "    for index in range(0,len(array)):\n",
    "        if index == len(array) - 1:\n",
    "            break\n",
    "        else:\n",
    "            if array[index] <= array[index + 1]:\n",
    "                cost_determinator_monotonic += 1\n",
    "            elif array[index] >= array[index + 1]:\n",
    "                cost_determinator_monotonic -= 1\n",
    "            else:\n",
    "                continue\n",
    "            \n",
    "    if cost_determinator_monotonic == 0:\n",
    "        return (f\"Given {array} is a Monotonic\")\n",
    "    elif cost_determinator_monotonic > 0:\n",
    "        return (f\"Given {array} is a Monotonic increasing/not a monotonic\")\n",
    "    else:\n",
    "        return (f\"Given {array} is a Monotonic decreasing/not a monotonic\")\n",
    "\n",
    "#driver\n",
    "\n",
    "result = monotonic_array([1,2,3])\n",
    "print(result)"
   ]
  },
  {
   "cell_type": "code",
   "execution_count": null,
   "id": "85833761",
   "metadata": {},
   "outputs": [],
   "source": []
  }
 ],
 "metadata": {
  "kernelspec": {
   "display_name": "Python 3",
   "language": "python",
   "name": "python3"
  },
  "language_info": {
   "codemirror_mode": {
    "name": "ipython",
    "version": 3
   },
   "file_extension": ".py",
   "mimetype": "text/x-python",
   "name": "python",
   "nbconvert_exporter": "python",
   "pygments_lexer": "ipython3",
   "version": "3.8.8"
  }
 },
 "nbformat": 4,
 "nbformat_minor": 5
}
