{
 "cells": [
  {
   "cell_type": "markdown",
   "metadata": {},
   "source": [
    "# 1. Write a Python Program to Find LCM?"
   ]
  },
  {
   "cell_type": "code",
   "execution_count": 40,
   "metadata": {},
   "outputs": [
    {
     "name": "stdout",
     "output_type": "stream",
     "text": [
      "The L.C.M. is 10\n"
     ]
    }
   ],
   "source": [
    "# Python Program to find the L.C.M. of two input number\n",
    "def compute_lcm(x, y):\n",
    "\n",
    "   # choose the greater number\n",
    "   if x > y:\n",
    "       greater = x\n",
    "   else:\n",
    "       greater = y\n",
    "\n",
    "   while(True):\n",
    "       if((greater % x == 0) and (greater % y == 0)):\n",
    "           lcm = greater\n",
    "           break\n",
    "       greater += 1\n",
    "\n",
    "   return lcm\n",
    "\n",
    "num1 = 2\n",
    "num2 = 5\n",
    "\n",
    "print(\"The L.C.M. is\", compute_lcm(num1, num2))"
   ]
  },
  {
   "cell_type": "markdown",
   "metadata": {},
   "source": [
    "# 2. Write a Python Program to Find HCF?"
   ]
  },
  {
   "cell_type": "code",
   "execution_count": 53,
   "metadata": {},
   "outputs": [
    {
     "name": "stdout",
     "output_type": "stream",
     "text": [
      "enter the number 12\n",
      "enter the number 14\n",
      "12 14\n",
      "the hcf of two numbers is 2\n"
     ]
    }
   ],
   "source": [
    "#Solution: \n",
    "number_one= int(input(\"enter the number \"))\n",
    "number_two= int(input(\"enter the number \"))\n",
    "\n",
    "a= 0\n",
    "b= 0\n",
    "\n",
    "if number_one > number_two:\n",
    "    a= a + number_two\n",
    "    b= b + number_one\n",
    "else:\n",
    "    a= a + number_one\n",
    "    b= b + number_two\n",
    "    \n",
    "print(a,b)\n",
    "\n",
    "counter= 0\n",
    "\n",
    "for divisor in range(b,0,-1):\n",
    "    if a%divisor == 0 and b%divisor ==0:\n",
    "        counter = counter+1\n",
    "        if counter <2:\n",
    "            print(\"the hcf of two numbers is {}\".format(divisor))\n",
    "            break"
   ]
  },
  {
   "cell_type": "markdown",
   "metadata": {},
   "source": [
    "# 3. Write a Python Program to Convert Decimal to Binary, Octal and Hexadecimal?"
   ]
  },
  {
   "cell_type": "code",
   "execution_count": 3,
   "metadata": {},
   "outputs": [
    {
     "name": "stdout",
     "output_type": "stream",
     "text": [
      "enter decimal 32\n",
      "converting the given 32 in to a binary format is:[1, 0, 0, 0, 0, 0]\n",
      "converting the given 32 in to a octal format is:[4, 0]\n",
      "converting the given 32 in to a hexadecimal format is:[2, 0]\n"
     ]
    }
   ],
   "source": [
    "decimal = int(input(\"enter decimal \"))\n",
    "\n",
    "given_decimal = decimal\n",
    "given_decimaloctal = decimal\n",
    "given_decimalhexa = decimal\n",
    "array_binary =[]\n",
    "\n",
    "while given_decimal>0:\n",
    "    remainder = given_decimal%2\n",
    "    array_binary.append(remainder)\n",
    "    given_decimal = given_decimal//2\n",
    "    \n",
    "print(\"converting the given {} in to a binary format is:{}\".format(decimal,array_binary[::-1]))   \n",
    "\n",
    "array_octal =[]\n",
    "\n",
    "while given_decimaloctal!=0:\n",
    "    remainder = given_decimaloctal%8\n",
    "    array_octal.append(remainder)\n",
    "    given_decimaloctal = given_decimaloctal//8 \n",
    "print(\"converting the given {} in to a octal format is:{}\".format(decimal,array_octal[::-1]))\n",
    "\n",
    "array_hexadecimal =[]\n",
    "\n",
    "while given_decimalhexa!=0:\n",
    "    remainder = given_decimalhexa%16\n",
    "    array_hexadecimal.append(remainder)\n",
    "    given_decimalhexa = given_decimalhexa//16 \n",
    "print(\"converting the given {} in to a hexadecimal format is:{}\".format(decimal,array_hexadecimal[::-1]))\n",
    "\n",
    "\n",
    "\n"
   ]
  },
  {
   "cell_type": "markdown",
   "metadata": {},
   "source": [
    "# 4. Write a Python Program To Find ASCII value of a character?"
   ]
  },
  {
   "cell_type": "code",
   "execution_count": 14,
   "metadata": {},
   "outputs": [
    {
     "name": "stdout",
     "output_type": "stream",
     "text": [
      "enter the character*\n",
      "the ASCII value of the * is 42\n"
     ]
    }
   ],
   "source": [
    "char = input(\"enter the character\")\n",
    "\n",
    "print(\"the ASCII value of the {} is {}\".format(char,ord(char)))"
   ]
  },
  {
   "cell_type": "markdown",
   "metadata": {},
   "source": [
    "# 5. Write a Python Program to Make a Simple Calculator with 4 basic mathematical operations?"
   ]
  },
  {
   "cell_type": "code",
   "execution_count": 1,
   "metadata": {},
   "outputs": [
    {
     "name": "stdout",
     "output_type": "stream",
     "text": [
      "enter a number 4\n",
      "enter a number 2\n",
      "6 8 2 2.0\n"
     ]
    }
   ],
   "source": [
    "a = int(input(\"enter a number \"))\n",
    "b = int(input(\"enter a number \"))\n",
    "\n",
    "print(a+b,a*b,a-b,a/b)"
   ]
  }
 ],
 "metadata": {
  "kernelspec": {
   "display_name": "Python 3",
   "language": "python",
   "name": "python3"
  },
  "language_info": {
   "codemirror_mode": {
    "name": "ipython",
    "version": 3
   },
   "file_extension": ".py",
   "mimetype": "text/x-python",
   "name": "python",
   "nbconvert_exporter": "python",
   "pygments_lexer": "ipython3",
   "version": "3.8.5"
  }
 },
 "nbformat": 4,
 "nbformat_minor": 4
}
